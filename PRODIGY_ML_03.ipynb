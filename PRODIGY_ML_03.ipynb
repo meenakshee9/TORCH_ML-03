{
 "cells": [
  {
   "cell_type": "code",
   "execution_count": null,
   "metadata": {},
   "outputs": [],
   "source": [
    "# Importing Dependencies\n",
    "\n",
    "import os\n",
    "import numpy as np\n",
    "import cv2 as cv\n",
    "import matplotlib.pyplot as plt\n",
    "import random\n",
    "from sklearn.model_selection import train_test_split\n",
    "from sklearn.svm import SVC"
   ]
  },
  {
   "cell_type": "code",
   "execution_count": null,
   "metadata": {},
   "outputs": [],
   "source": [
    "dir = 'C:\\PRODIGY_ML_03-main\\Dataset'"
   ]
  },
  {
   "cell_type": "code",
   "execution_count": null,
   "metadata": {},
   "outputs": [],
   "source": [
    "# Setting Path and Reshaping\n",
    "\n",
    "categories = ['Cat', 'Dog']\n",
    "\n",
    "data = []\n",
    "\n",
    "for category in categories:\n",
    "    path = os.path.join(dir, category)\n",
    "    label = categories.index(category)\n",
    "\n",
    "    for img in os.listdir(path):\n",
    "        imgpath = os.path.join(path, img)\n",
    "        pet_img = cv.imread(imgpath, 0)\n",
    "        try:\n",
    "            pet_img = cv.resize(pet_img, (100, 100), interpolation=cv.INTER_AREA)\n",
    "            # print(pet_img.shape)\n",
    "        except:\n",
    "            break\n",
    "        image = np.array(pet_img).flatten()\n",
    "        data.append([image,label])\n",
    "\n",
    "print(len(data))"
   ]
  },
  {
   "cell_type": "code",
   "execution_count": null,
   "metadata": {},
   "outputs": [],
   "source": [
    "random.shuffle(data)\n",
    "\n",
    "features = []\n",
    "labels = []\n",
    "\n",
    "for feature,label in data:\n",
    "    features.append(feature)\n",
    "    labels.append(label)"
   ]
  },
  {
   "cell_type": "code",
   "execution_count": null,
   "metadata": {},
   "outputs": [],
   "source": [
    "# Splitting the Dataset\n",
    "\n",
    "x_train, x_test, y_train, y_test = train_test_split(features, labels, test_size=0.2)"
   ]
  },
  {
   "cell_type": "code",
   "execution_count": null,
   "metadata": {},
   "outputs": [],
   "source": [
    "# Training the model\n",
    "\n",
    "model = SVC(C=1, kernel='poly', gamma='auto') \n",
    "model.fit(x_train,y_train)"
   ]
  },
  {
   "cell_type": "code",
   "execution_count": null,
   "metadata": {},
   "outputs": [],
   "source": [
    "# Testing the model\n",
    "\n",
    "mypet = x_test[2].reshape(100,100)\n",
    "prediction = model.predict(x_test)\n",
    "accuracy = model.score(x_test,y_test)\n",
    "print('Accuracy :', accuracy)\n",
    "print('Prediction is', categories[prediction[2]])\n",
    "plt.imshow(mypet, cmap ='gray')\n",
    "plt.show()"
   ]
  },
  {
   "cell_type": "code",
   "execution_count": null,
   "metadata": {},
   "outputs": [],
   "source": []
  },
  {
   "cell_type": "code",
   "execution_count": null,
   "metadata": {},
   "outputs": [],
   "source": []
  },
  {
   "cell_type": "code",
   "execution_count": null,
   "metadata": {},
   "outputs": [],
   "source": []
  },
  {
   "cell_type": "code",
   "execution_count": null,
   "metadata": {},
   "outputs": [],
   "source": []
  }
 ],
 "metadata": {
  "kernelspec": {
   "display_name": "Python 3 (ipykernel)",
   "language": "python",
   "name": "python3"
  },
  "language_info": {
   "codemirror_mode": {
    "name": "ipython",
    "version": 3
   },
   "file_extension": ".py",
   "mimetype": "text/x-python",
   "name": "python",
   "nbconvert_exporter": "python",
   "pygments_lexer": "ipython3",
   "version": "3.9.11"
  }
 },
 "nbformat": 4,
 "nbformat_minor": 4
}
